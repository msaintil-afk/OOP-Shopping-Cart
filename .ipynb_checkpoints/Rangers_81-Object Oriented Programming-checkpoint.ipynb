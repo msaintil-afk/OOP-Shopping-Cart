{
 "cells": [
  {
   "cell_type": "markdown",
   "metadata": {},
   "source": [
    "# Object-Oriented-Programming (OOP)"
   ]
  },
  {
   "cell_type": "markdown",
   "metadata": {},
   "source": [
    "## Tasks Today:\n",
    "\n",
    "   \n",
    "\n",
    "1) <b>Creating a Class (Initializing/Declaring)</b> <br>\n",
    "2) <b>Using a Class (Instantiating)</b> <br>\n",
    " &nbsp;&nbsp;&nbsp;&nbsp; a) Creating One Instance <br>\n",
    " &nbsp;&nbsp;&nbsp;&nbsp; b) Creating Multiple Instances <br>\n",
    " &nbsp;&nbsp;&nbsp;&nbsp; c) In-Class Exercise #1 - Create a Class 'Car' and instantiate three different makes of cars <br>\n",
    "3) <b>The \\__init\\__() Method</b> <br>\n",
    " &nbsp;&nbsp;&nbsp;&nbsp; a) The 'self' Attribute <br>\n",
    "4) <b>Class Attributes</b> <br>\n",
    " &nbsp;&nbsp;&nbsp;&nbsp; a) Initializing Attributes <br>\n",
    " &nbsp;&nbsp;&nbsp;&nbsp; b) Setting an Attribute Outside of the \\__init\\__() Method <br>\n",
    " &nbsp;&nbsp;&nbsp;&nbsp; c) Setting Defaults for Attributes <br>\n",
    " &nbsp;&nbsp;&nbsp;&nbsp; d) Accessing Class Attributes <br>\n",
    " &nbsp;&nbsp;&nbsp;&nbsp; e) Changing Class Attributes <br>\n",
    " &nbsp;&nbsp;&nbsp;&nbsp; f) In-Class Exercise #2 - Add a color and wheels attribute to your 'Car' class <br>\n",
    "5) <b>Class Methods</b> <br>\n",
    " &nbsp;&nbsp;&nbsp;&nbsp; a) Creating <br>\n",
    " &nbsp;&nbsp;&nbsp;&nbsp; b) Calling <br>\n",
    " &nbsp;&nbsp;&nbsp;&nbsp; c) Modifying an Attribute's Value Through a Method <br>\n",
    " &nbsp;&nbsp;&nbsp;&nbsp; d) Incrementing an Attribute's Value Through a Method <br>\n",
    " &nbsp;&nbsp;&nbsp;&nbsp; e) In-Class Exercise #3 - Add a method that prints the cars color and wheel number, then call them <br>\n",
    "6) <b>Inheritance</b> <br>\n",
    " &nbsp;&nbsp;&nbsp;&nbsp; a) Syntax for Inheriting from a Parent Class <br>\n",
    " &nbsp;&nbsp;&nbsp;&nbsp; b) The \\__init\\__() Method for a Child Class (super()) <br>\n",
    " &nbsp;&nbsp;&nbsp;&nbsp; c) Defining Attributes and Methods for the Child Class <br>\n",
    " &nbsp;&nbsp;&nbsp;&nbsp; d) Method Overriding <br>\n",
    " &nbsp;&nbsp;&nbsp;&nbsp; e) In-Class Exercise #4 - Create a class 'Ford' that inherits from 'Car' class and initialize it as a Blue Ford Explorer with 4 wheels using the super() method <br>\n",
    "7) <b>Classes as Attributes</b> <br>\n",
    "8) <b>Exercises</b> <br>\n",
    " &nbsp;&nbsp;&nbsp;&nbsp; a) Exercise #1 - Turn the shopping cart program from last week into an object-oriented program <br>"
   ]
  },
  {
   "cell_type": "markdown",
   "metadata": {},
   "source": [
    "## Creating a Class (Initializing/Declaring)\n",
    "<p>When creating a class, function, or even a variable you are initializing that object. Initializing and Declaring occur at the same time in Python, whereas in lower level languages you have to declare an object before initializing it. This is the first step in the process of using a class.</p>"
   ]
  },
  {
   "cell_type": "code",
   "execution_count": null,
   "metadata": {},
   "outputs": [],
   "source": [
    "class Car():\n",
    "    wheels = 4\n",
    "    color = 'blue'"
   ]
  },
  {
   "cell_type": "markdown",
   "metadata": {},
   "source": [
    "## Using a Class (Instantiating)\n",
    "<p>The process of creating a class is called <i>Instantiating</i>. Each time you create a variable of that type of class, it is referred to as an <i>Instance</i> of that class. This is the second step in the process of using a class.</p>"
   ]
  },
  {
   "cell_type": "markdown",
   "metadata": {},
   "source": [
    "##### Creating One Instance"
   ]
  },
  {
   "cell_type": "code",
   "execution_count": null,
   "metadata": {},
   "outputs": [],
   "source": [
    "ford = Car()\n"
   ]
  },
  {
   "cell_type": "markdown",
   "metadata": {},
   "source": [
    "##### Creating Multiple Instances"
   ]
  },
  {
   "cell_type": "code",
   "execution_count": null,
   "metadata": {},
   "outputs": [],
   "source": [
    "mazda = Car()\n",
    "honda = Car()\n",
    "porsche = Car()\n",
    "\n",
    "print(mazda.wheels)\n",
    "print(honda.wheels)\n",
    "print(porsche.wheels)\n",
    "print(mazda.color)"
   ]
  },
  {
   "cell_type": "markdown",
   "metadata": {},
   "source": [
    "##### In-Class Exercise #1 - Create a Class 'Car' and Instantiate three different makes of cars"
   ]
  },
  {
   "cell_type": "code",
   "execution_count": null,
   "metadata": {},
   "outputs": [],
   "source": [
    "class Motorcycle():\n",
    "        wheels = 2\n",
    "        top_speed = '200+'\n",
    "\n",
    "sukuki = Motorcycle\n",
    "\n",
    "print(sukuki.top_speed)\n",
    "print(sukuki.wheels)\n"
   ]
  },
  {
   "cell_type": "markdown",
   "metadata": {},
   "source": [
    "## The \\__init\\__() Method <br>\n",
    "<p>This method is used in almost every created class, and called only once upon the creation of the class instance. This method will initialize all variables needed for the object.</p>"
   ]
  },
  {
   "cell_type": "code",
   "execution_count": null,
   "metadata": {},
   "outputs": [],
   "source": [
    "class Car():\n",
    "    ENGINE = '4.7L' # constant-attribute in all caps    \n",
    "    def __init__(self,wheels,color,gas_or_eletric):\n",
    "        self.wheels = wheels\n",
    "        self.color = color\n",
    "        self.gas_or_eletric = gas_or_eletric\n",
    "        \n",
    "ford = Car(4,'red','gas')\n",
    "chevy = Car(6, 'black','gas')\n",
    "telsa = Car(4,'mate black','eletric')\n",
    "\n",
    "print(ford.wheels)\n",
    "print(chevy.wheels)\n",
    "print(telsa.gas_or_eletric)\n",
    "print(ford.ENGINE) #constant variable \n"
   ]
  },
  {
   "cell_type": "markdown",
   "metadata": {},
   "source": [
    "##### The 'self' Attribute <br>\n",
    "<p>This attribute is required to keep track of specific instance's attributes. Without the self attribute, the program would not know how to reference or keep track of an instance's attributes.</p>"
   ]
  },
  {
   "cell_type": "code",
   "execution_count": null,
   "metadata": {},
   "outputs": [],
   "source": [
    "# see above\n",
    "\n",
    "class Toy():\n",
    "    TYPE = \"legos\"\n",
    "\n",
    "    def _init_(self, connect, colors, theme_set, studs, shape, choking_hazard):\n",
    "        self.connect = connect\n",
    "        self.colors = colors\n",
    "        self.theme_set = theme_set\n",
    "        self.studs = studs\n",
    "        self.shape = shape\n",
    "        self.choking_hazard = choking_hazard\n",
    "\n",
    "star_wars = Toy('grey', 'star_wars', 'a lot', 'space ship', 'True')\n",
    "\n",
    "print(star_wars.colors)\n",
    "\n"
   ]
  },
  {
   "cell_type": "markdown",
   "metadata": {},
   "source": [
    "## Class Attributes <br>\n",
    "<p>While variables are inside of a class, they are referred to as attributes and not variables. When someone says 'attribute' you know they're speaking about a class. Attributes can be initialized through the init method, or outside of it.</p>"
   ]
  },
  {
   "cell_type": "markdown",
   "metadata": {},
   "source": [
    "##### Initializing Attributes"
   ]
  },
  {
   "cell_type": "code",
   "execution_count": null,
   "metadata": {},
   "outputs": [],
   "source": [
    "# see above"
   ]
  },
  {
   "cell_type": "markdown",
   "metadata": {},
   "source": [
    "##### Accessing Class Attributes"
   ]
  },
  {
   "cell_type": "code",
   "execution_count": null,
   "metadata": {
    "scrolled": true
   },
   "outputs": [],
   "source": [
    "# See Above"
   ]
  },
  {
   "cell_type": "markdown",
   "metadata": {},
   "source": [
    "##### Setting Defaults for Attributes"
   ]
  },
  {
   "cell_type": "code",
   "execution_count": null,
   "metadata": {},
   "outputs": [],
   "source": [
    "class Car():\n",
    "    ENGINE = '4.7L'\n",
    "    \n",
    "    def __init__(self,wheels, color = 'Blue'):\n",
    "        self.wheels = wheels\n",
    "        self.color = color\n",
    "        \n",
    "honda = Car(4)\n",
    "jeep = Car(8)\n",
    "\n",
    "print(honda.color)"
   ]
  },
  {
   "cell_type": "markdown",
   "metadata": {},
   "source": [
    "##### Changing Class Attributes <br>\n",
    "<p>Keep in mind there are global class attributes and then there are attributes only available to each class instance which won't effect other classes.</p>"
   ]
  },
  {
   "cell_type": "code",
   "execution_count": null,
   "metadata": {},
   "outputs": [],
   "source": [
    "#change the default attribute\n",
    "\n",
    "print(f\"before the change: {honda.color}\")\n",
    "honda.color = 'white'\n",
    "print(f\"after the change: {honda.color}\")\n",
    "\n",
    "\n",
    "print(f\"before the change: {honda.wheels}\")\n",
    "honda.wheels = '8'\n",
    "print(f\"after the change: {honda.wheels}\")\n",
    "\n"
   ]
  },
  {
   "cell_type": "code",
   "execution_count": null,
   "metadata": {},
   "outputs": [],
   "source": [
    "\n",
    "\n",
    "\n",
    "\n"
   ]
  },
  {
   "cell_type": "markdown",
   "metadata": {},
   "source": [
    "##### In-Class Exercise #2 - Add a doors and seats attribute to your 'Car' class then print out two different instances with different doors and seats"
   ]
  },
  {
   "cell_type": "code",
   "execution_count": null,
   "metadata": {},
   "outputs": [],
   "source": [
    "class Cars():\n",
    "    ENGINE = 'V8'\n",
    "    \n",
    "    def __init__(self,doors, seats):\n",
    "        self.doors = doors\n",
    "        self.seats = seats\n",
    "        \n",
    "honda = Cars(2,4)\n",
    "jeep = Cars(4,4)\n",
    "\n",
    "print(f\"honda doors before the change: {honda.doors}\")\n",
    "honda.doors = '4'\n",
    "print(f\"honda doors after the change: {honda.doors}\")\n",
    "\n",
    "\n",
    "print(f\"jeep seats before the change: {jeep.seats}\")\n",
    "jeep.seats = '8'\n",
    "print(f\"jeep seats after the change: {jeep.seats}\")\n",
    "\n",
    "\n",
    "\n",
    "\n"
   ]
  },
  {
   "cell_type": "markdown",
   "metadata": {},
   "source": [
    "## Class Methods <br>\n",
    "<p>While inside of a class, functions are referred to as 'methods'. If you hear someone mention methods, they're speaking about classes. Methods are essentially functions, but only callable on the instances of a class.</p>"
   ]
  },
  {
   "cell_type": "markdown",
   "metadata": {},
   "source": [
    "##### Creating"
   ]
  },
  {
   "cell_type": "code",
   "execution_count": null,
   "metadata": {},
   "outputs": [],
   "source": [
    "class Bus():\n",
    "    \"\"\"\n",
    "    Our bus will have doors, seats, seats available, color, and a bus driver\n",
    "    \n",
    "    Attributes for the class:\n",
    "    -doors: expected to be an integer\n",
    "    -seats: integer\n",
    "    -seats_available: integer\n",
    "    -color: string\n",
    "    -bus_driver: string\n",
    "    \"\"\"\n",
    "    \n",
    "    def __init__(self, doors, seats, seats_available, color, bus_driver):\n",
    "        self.doors = doors\n",
    "        self.seats = seats\n",
    "        self.seats_available = seats_available\n",
    "        self.color = color\n",
    "        self.bus_driver = bus_driver\n",
    "    \n",
    "    # decrement the number of seats available\n",
    "    # changing a class attribute with a method\n",
    "    def load_passengers(self):\n",
    "        if self.seats_available <= 0:\n",
    "            print(\"The bus is full! You can't take any more passengers!\")\n",
    "            if self.seats_available < 0:\n",
    "                print(f\"You left {abs(self.seats_available)} people by the road\")\n",
    "                self.seats_available = 0\n",
    "        else:\n",
    "            passengers = int(input(\"How many passengers are getting on?\"))\n",
    "            self.seats_available -= passengers\n",
    "            print(f\"{passengers} seats have been loaded and there are {self.seats_available} seats available\")\n",
    "        \n",
    "    #increment the number of seats available\n",
    "    # changes a class attribute with a method\n",
    "    def unload_passengers(self):\n",
    "        if self.seats_available >= self.seats:\n",
    "            print(\"There is no one left to get off the bus!\")\n",
    "            self.seats_available = self.seats\n",
    "        else:\n",
    "            unload = int(input(\"How many passengers are getting off the bus?\"))\n",
    "            self.seats_available += unload\n",
    "            if self.seats_available >= self.seats:\n",
    "                self.seats_available = self.seats\n",
    "                print(f\"{unload} passengers have left the bus. There are {self.seats_available} unoccupied seats.\")\n",
    "            print(f\"{unload} passengers have left the bus. There are {self.seats_available} unoccupied seats.\")\n",
    "    \n",
    "    def change_driver(self):\n",
    "        change = input(\"Who is replacing you?\")\n",
    "        self.bus_driver = change\n",
    "        print(f\"The new bus driver is {self.bus_driver}\")\n",
    "            \n",
    "            \n",
    "    def check_seats(self):\n",
    "        print(f\"There are {self.seats_available} seats available\")\n",
    "        \n",
    "    def admire_bus(self):\n",
    "        print(f\"Would ya just look at that beautiful {self.color} bus!\")\n",
    "        \n",
    "ryan_bus = Bus(2, 90, 45, 'yellow', 'Ryan')\n"
   ]
  },
  {
   "cell_type": "markdown",
   "metadata": {},
   "source": [
    "##### Calling"
   ]
  },
  {
   "cell_type": "code",
   "execution_count": null,
   "metadata": {},
   "outputs": [],
   "source": [
    "\n",
    "def run():\n",
    "    while True:\n",
    "        response = input(\"What would you like to do? Load/Unload/Change Driver/Check Seats/Admire/Quit\")\n",
    "        if response.lower() == \"quit\":\n",
    "            print(\"Oh no! There are still passengers to be picked up! :( \")\n",
    "            break\n",
    "        elif response.lower() == \"load\":\n",
    "            ryan_bus.load_passengers()\n",
    "        \n",
    "        elif response.lower() == \"unload\":\n",
    "            ryan_bus.unload_passengers()\n",
    "            \n",
    "        elif response.lower() == \"change driver\":\n",
    "            ryan_bus.change_driver()\n",
    "        \n",
    "        elif response.lower() == \"check seats\":\n",
    "            ryan_bus.check_seats()\n",
    "        \n",
    "        elif response.lower() == \"admire\":\n",
    "            ryan_bus.admire_bus()\n",
    "        \n",
    "        else:\n",
    "            print(\"That is not a valid response. Please choose one from the list!\")\n",
    "            \n",
    "run()"
   ]
  },
  {
   "cell_type": "markdown",
   "metadata": {},
   "source": [
    "##### Modifying an Attribute's Value Through a Method"
   ]
  },
  {
   "cell_type": "code",
   "execution_count": null,
   "metadata": {},
   "outputs": [],
   "source": []
  },
  {
   "cell_type": "markdown",
   "metadata": {},
   "source": [
    "##### Incrementing an Attribute's Value Through a Method"
   ]
  },
  {
   "cell_type": "code",
   "execution_count": null,
   "metadata": {},
   "outputs": [],
   "source": []
  },
  {
   "cell_type": "markdown",
   "metadata": {},
   "source": [
    "##### In-Class Exercise #3 - Add a method that takes in three parameters of year, doors and seats and prints out a formatted print statement with make, model, year, seats, and doors"
   ]
  },
  {
   "cell_type": "code",
   "execution_count": null,
   "metadata": {},
   "outputs": [],
   "source": [
    "# Create class with 2 paramters inside of the __init__ which are make and model\n",
    "\n",
    "# Inside of the Car class create a method that has 4 parameter in total (self,year,door,seats)\n",
    "\n",
    "# Output: This car is from 2019 and is a Ford Expolorer and has 4 doors and 5 seats\n",
    "class Cars():\n",
    "    ENGINE = 'V8'\n",
    "    \n",
    "    def __init__(self,doors, seats):\n",
    "        self.doors = doors\n",
    "        self.seats = seats\n",
    "    \n",
    "\n",
    "    def check_seats(self):\n",
    "        print(f\"There are {self.seats} seats available\")\n",
    "        \n",
    "    def check_doors(self):\n",
    "        print(f\"There are  {self.doors} doors availble!\")\n",
    "\n",
    "\n",
    "\n",
    "def run():\n",
    "    while True:\n",
    "        response = input(\"What would you like to do? Check Doors/Check Seats/Quit\")\n",
    "        if response.lower() == \"quit\":\n",
    "            print(\"Oh no! There is soo many option to choose from! :( \")\n",
    "            break\n",
    "        elif response.lower() == \"check\":\n",
    "            ryan_bus.load_passengers()\n",
    "        \n",
    "        elif response.lower() == \"unload\":\n",
    "            ryan_bus.unload_passengers()\n",
    "            \n",
    "        elif response.lower() == \"change driver\":\n",
    "            ryan_bus.change_driver()\n",
    "        \n",
    "        elif response.lower() == \"check seats\":\n",
    "            ryan_bus.check_seats()\n",
    "        \n",
    "        elif response.lower() == \"admire\":\n",
    "            ryan_bus.admire_bus()\n",
    "        \n",
    "        else:\n",
    "            print(\"That is not a valid response. Please choose one from the list!\")\n",
    "            \n",
    "run()\n",
    "\n",
    "\n",
    "\n",
    "\n"
   ]
  },
  {
   "cell_type": "markdown",
   "metadata": {},
   "source": [
    "## Inheritance <br>\n",
    "<p>You can create a child-parent relationship between two classes by using inheritance. What this allows you to do is have overriding methods, but also inherit traits from the parent class. Think of it as an actual parent and child, the child will inherit the parent's genes, as will the classes in OOP</p>"
   ]
  },
  {
   "cell_type": "markdown",
   "metadata": {},
   "source": [
    "##### Syntax for Inheriting from a Parent Class"
   ]
  },
  {
   "cell_type": "code",
   "execution_count": null,
   "metadata": {},
   "outputs": [],
   "source": [
    "# Creation of our Parent Class -- Animal\n",
    "class Animal():\n",
    "    ACCELERATION = 9.8\n",
    "    \n",
    "    def __init__(self,name,species,legs = 4):\n",
    "        self.name = name\n",
    "        self.species = species\n",
    "        self.legs = legs\n",
    "        \n",
    "    # Generic Parent(Animal) Method -- NO OVERRIDE YET\n",
    "    def makeSound(self):\n",
    "        print('reeeeeeeeeee')\n",
    "        \n",
    "# Creation of our Child Class -- Dog\n",
    "class Dog(Animal):\n",
    "    speed = 15\n",
    "    \n",
    "    def printInfo(self):\n",
    "        print(f\"The Dog has {self.speed}mph in speed and accerates towards the ground at {self.ACCELERATION}\")\n",
    "        \n",
    "\n",
    "# Creation of our Grand-Child Class -- Mut\n",
    "class Mut(Dog):\n",
    "    color = 'white & brown'\n",
    "    \n",
    "    # Overriding of the ANIMAL Class __init__ method (by way of using the Dog class)\n",
    "    def __init__(self, name, species, eye_color, legs = 4):\n",
    "        Dog.__init__(self,name,species,legs) \n",
    "        self.eye_color = eye_color\n",
    "        \n",
    "    # Overide the makeSound method (again coming from the ANIMAL class)\n",
    "    def makeSound(self):\n",
    "        noise = 'ruff ruff ruff awooooooooo'\n",
    "        return noise\n",
    "\n",
    "cat = Animal(\"sassy\", 'cat')       \n",
    "lassie = Dog('Lassie','Dog')\n",
    "basic_animal = Animal('Generic Animal Name', 'Generic Animal Species')\n",
    "buster = Mut('Buster', 'Mut','black')\n",
    "mut = Mut('eyo', 'terrier mix', 'brown')\n",
    "\n",
    "print(buster.makeSound())\n",
    "print(basic_animal.makeSound())\n",
    "print(buster.ACCELERATION)\n",
    "print(cat.name)\n",
    "mut.makeSound()\n",
    "\n",
    "# Checking the inheritance tree for our Mut class\n"
   ]
  },
  {
   "cell_type": "markdown",
   "metadata": {},
   "source": [
    "##### The \\__init\\__() Method for a Child Class - super()"
   ]
  },
  {
   "cell_type": "code",
   "execution_count": null,
   "metadata": {
    "scrolled": true
   },
   "outputs": [],
   "source": [
    "class Mut(Dog):\n",
    "    COLOR = 'brown and tan'\n",
    "\n",
    "    #overiding th animal class_init_ with the super().init()\n",
    "    def _init_(self, name, species, eye_color, legs = 4):\n",
    "        super()._init_(name, species, legs)\n",
    "        #super will reference the class that the child takes in\n",
    "        self.eye_color = eye_color\n",
    "\n",
    "    def make_sound(self):\n",
    "        print(\"woof\")\n",
    "\n",
    "czika = Mut('czike', 'mini pinscher', 'balck and tan')\n",
    "\n",
    "czika.make_sound()\n",
    "print(czika.speed)\n",
    "print(czika.ACCELERATION)\n",
    "\n"
   ]
  },
  {
   "cell_type": "markdown",
   "metadata": {},
   "source": [
    "##### Defining Attributes and Methods for the Child Class"
   ]
  },
  {
   "cell_type": "code",
   "execution_count": null,
   "metadata": {},
   "outputs": [],
   "source": [
    "# See Above"
   ]
  },
  {
   "cell_type": "markdown",
   "metadata": {},
   "source": [
    "##### Method Overriding"
   ]
  },
  {
   "cell_type": "code",
   "execution_count": null,
   "metadata": {},
   "outputs": [],
   "source": [
    "# See Above"
   ]
  },
  {
   "cell_type": "markdown",
   "metadata": {},
   "source": [
    "## Classes as Attributes <br>\n",
    "<p>Classes can also be used as attributes within another class. This is useful in situations where you need to keep variables locally stored, instead of globally stored.</p>"
   ]
  },
  {
   "cell_type": "code",
   "execution_count": null,
   "metadata": {},
   "outputs": [],
   "source": [
    "class Battery():\n",
    "    VOLTZ = 7.8\n",
    "\n",
    "    def __init__(self,cells):\n",
    "        self.cells = cells\n",
    "class Car():\n",
    "    def __init__(self, year, make, model, battery):\n",
    "        self.year = year\n",
    "        self.make = make\n",
    "        self.model = model \n",
    "        self.battery = battery\n",
    "    def printinfo(self):\n",
    "        return f\"Here is some info, please enjoy: {self.year}, {self.make}, {self.model}, {self.battery.cells}\"\n",
    "\n",
    "battery = Battery(20)\n",
    "tesla = Car(2022, \"Tesla\", \"model X\", battery)\n",
    "\n",
    "tesla.printinfo()"
   ]
  },
  {
   "cell_type": "code",
   "execution_count": null,
   "metadata": {},
   "outputs": [],
   "source": [
    "# Exercise #4 Create a class that has at least 3 attributes. \n",
    "# One must be a list or a dictionary. \n",
    "# The class must also have 3 methods, one that adds to the list or dictionary, \n",
    "# one that alters an attributes value, and one that does whatever you want it to do. \n",
    "\n",
    "class Super_hero():\n",
    "    \n",
    "    def __init__(self, hero_name, powers, secret_identity, weakness):\n",
    "        self.hero_name = hero_name\n",
    "        self.powers = powers\n",
    "        self.secret_identity = secret_identity\n",
    "        self.weakness = weakness\n",
    "        self.info = {}\n",
    "    \n",
    "    def add_power(self):\n",
    "        new_power = input(\"What powers would you like to have?\").lower().strip()\n",
    "        if new_power not in self.powers:\n",
    "            self.powers.append(new_power)\n",
    "            print(f\"{self.hero_name} can now perform {new_power}!\")\n",
    "    \n",
    "    def abilities(self):\n",
    "        abilities = set(self.powers)\n",
    "        print(f\"\"\"Here are your current powers\n",
    "        {abilities}\"\"\")\n",
    "    \n",
    "    def remove_power(self):\n",
    "        print(f\"Here are you powers:\")\n",
    "        print(self.powers)\n",
    "        removed_power = input(\"Which power have you lost?\").lower().strip()\n",
    "        if removed_power not in self.powers:\n",
    "            print(f\"{removed_power} not in list!\")\n",
    "        else:\n",
    "            self.powers.remove(removed_power)\n",
    "            print(f\"{self.hero_name} has now lost this power\")\n",
    "            \n",
    "    def add_info(self):\n",
    "        bad_guy = input(\"Who is the bad guy?\")\n",
    "        where_bad = input (\"Where is the bad guy?\")\n",
    "        self.info[bad_guy] = where_bad\n",
    "        print(self.info)\n",
    "\n",
    "spider_man = Super_hero(\"Spider-Man\",[\"shoots webs\", \"reflexes\", \"super strength\", \"spidey sense\"], \"Peter Parker\", \"Mary Jane\")\n",
    "spider_man.add_info()\n",
    "\n"
   ]
  },
  {
   "cell_type": "markdown",
   "metadata": {},
   "source": [
    "# Exercises"
   ]
  },
  {
   "cell_type": "markdown",
   "metadata": {},
   "source": [
    "### Exercise 1 - Turn the shopping cart program from yesterday into an object-oriented program\n",
    "\n",
    "The comments in the cell below are there as a guide for thinking about the problem. However, if you feel a different way is best for you and your own thought process, please do what feels best for you by all means."
   ]
  },
  {
   "cell_type": "code",
   "execution_count": null,
   "metadata": {},
   "outputs": [],
   "source": [
    "# Create a class called cart that retains items and has methods to add, remove, and show\n",
    "\n",
    "class Cart():\n",
    "    def __init__(self):\n",
    "        self.items = []\n",
    "    def add_items(self):\n",
    "        add_items = input(\"What items would you like to add to the shopping cart?\")\n",
    "        self.items.append(add_items)\n",
    "        print(f\"You've added {add_items} to the shopping cart\")\n",
    "    def remove_items(self):\n",
    "        remove_items = input(\"What items would like to remove from the shopping cart?\")\n",
    "        self.items.remove(remove_items)\n",
    "        print(f\"You have removed {remove_items} from the shopping cart\")\n",
    "    def show_items(self):\n",
    "        show = f\"These are the items in your shopping cart: {self.items}\"\n",
    "        print(show)\n",
    "\n",
    "def shopping():\n",
    "    user = Cart()\n",
    "    while True:\n",
    "        option = input(\"What would you like to do? (add items), (remove items), (show items), or (quit)?\")\n",
    "        if option.lower() == \"quit\":\n",
    "            print(\"Thanks for shopping with us\")\n",
    "            break\n",
    "        elif option.lower() == \"add items\":\n",
    "            user.add_items()\n",
    "        elif option.lower() == \"remove items\":\n",
    "            user.remove_items()\n",
    "        elif option.lower() == \"show items\":\n",
    "            user.show_items()\n",
    "        else:\n",
    "            print(\"That's not a valid response. Please choose a valid response.\")\n",
    "            \n",
    "\n",
    "\n",
    "\n",
    "shopping()\n",
    "\n",
    "\n",
    "\n",
    "\n",
    "\n",
    "\n",
    "\n",
    "\n",
    "\n",
    "\n",
    "\n",
    "    "
   ]
  },
  {
   "cell_type": "markdown",
   "metadata": {},
   "source": [
    "### Exercise 2 - Write a Python class which has two methods get_String and print_String. get_String accept a string from the user and print_String print the string in upper case"
   ]
  },
  {
   "cell_type": "code",
   "execution_count": 1,
   "metadata": {},
   "outputs": [
    {
     "name": "stdout",
     "output_type": "stream",
     "text": [
      "What would you like to do? (add string), or (quit)?add string\n",
      "Enter the string you would like to add?this is a string\n",
      "THIS IS A STRING\n",
      "What would you like to do? (add string), or (quit)?quit\n",
      "Thanks for playing\n"
     ]
    }
   ],
   "source": [
    "class String_print():\n",
    "    def __init__(self):\n",
    "        self.string = []\n",
    "    def get_string(self):\n",
    "        add_string = input(\"Enter the string you would like to add?\")\n",
    "        string_input = add_string.upper() \n",
    "        self.string = string_input\n",
    "        print(self.string)\n",
    "  \n",
    "\n",
    "    def print_string():\n",
    "        user = String_print()\n",
    "        while True:\n",
    "            option = input(\"What would you like to do? (add string), or (quit)?\")\n",
    "            if option.lower() == \"quit\":\n",
    "                print(\"Thanks for playing\")\n",
    "                break\n",
    "            elif option.lower() == \"add string\":\n",
    "                user.get_string()\n",
    "            else:\n",
    "                print(\"That's not a valid response. Please choose a valid response.\")\n",
    "                break\n",
    "\n",
    "String_print.print_string()\n",
    "\n",
    "\n",
    "\n",
    "\n",
    "\n",
    "\n",
    "\n",
    "\n",
    "\n",
    "\n",
    "\n",
    "\n",
    "\n",
    "\n",
    "\n",
    "\n",
    "\n",
    "\n",
    "\n",
    "\n"
   ]
  },
  {
   "cell_type": "code",
   "execution_count": null,
   "metadata": {},
   "outputs": [],
   "source": []
  }
 ],
 "metadata": {
  "interpreter": {
   "hash": "e7370f93d1d0cde622a1f8e1c04877d8463912d04d973331ad4851f04de6915a"
  },
  "kernelspec": {
   "display_name": "Python 3 (ipykernel)",
   "language": "python",
   "name": "python3"
  },
  "language_info": {
   "codemirror_mode": {
    "name": "ipython",
    "version": 3
   },
   "file_extension": ".py",
   "mimetype": "text/x-python",
   "name": "python",
   "nbconvert_exporter": "python",
   "pygments_lexer": "ipython3",
   "version": "3.10.4"
  }
 },
 "nbformat": 4,
 "nbformat_minor": 2
}
